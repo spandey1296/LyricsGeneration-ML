{
  "nbformat": 4,
  "nbformat_minor": 0,
  "metadata": {
    "colab": {
      "name": "Lyrics_Generation.ipynb",
      "provenance": []
    },
    "kernelspec": {
      "name": "python3",
      "display_name": "Python 3"
    }
  },
  "cells": [
    {
      "cell_type": "code",
      "metadata": {
        "id": "Zl58fKeceAMD",
        "colab_type": "code",
        "colab": {}
      },
      "source": [
        "import requests"
      ],
      "execution_count": 4,
      "outputs": []
    },
    {
      "cell_type": "code",
      "metadata": {
        "id": "T21LZ9GTe-76",
        "colab_type": "code",
        "colab": {}
      },
      "source": [
        "response = requests.get(\"https://raw.githubusercontent.com/coding-blocks-archives/ML-Noida-2019-June-Two/master/datasets/speeches/speech.txt\")"
      ],
      "execution_count": 5,
      "outputs": []
    },
    {
      "cell_type": "code",
      "metadata": {
        "id": "OdhekEw4fG_a",
        "colab_type": "code",
        "colab": {}
      },
      "source": [
        "data = response.text"
      ],
      "execution_count": 6,
      "outputs": []
    },
    {
      "cell_type": "code",
      "metadata": {
        "id": "57aMAWpmfHzw",
        "colab_type": "code",
        "colab": {
          "base_uri": "https://localhost:8080/",
          "height": 173
        },
        "outputId": "ac1a2825-6f90-47b1-dd95-bc5ae093543d"
      },
      "source": [
        "print(data[:1000])"
      ],
      "execution_count": 7,
      "outputs": [
        {
          "output_type": "stream",
          "text": [
            "26 8 2016, India\n",
            "Niti Aayog\n",
            "There was a time when development was believed to depend on the quantity of capital and labour. Today we know that it depends as much on the quality of institutions and ideas. Early last year, a new institution was created, namely, the National Institution for Transforming India or NITI. NITI was created as an evidence based think tank to guide India’s transformation.\n",
            "One of NITI’s functions is:\n",
            "- to mainstream external ideas into Government policies, through collaboration with national and international experts;\n",
            "- to be the Government’s link to the outside world, outside experts and practitioners;\n",
            "- to be the instrument through which ideas from outside are incorporated into policy-making.\n",
            "The Government of India and the State Governments have a long administrative tradition. This tradition combines indigenous and external ideas from India’s past. This administrative tradition has served India well in many ways. Above all, it has preserved democracy and fede\n"
          ],
          "name": "stdout"
        }
      ]
    },
    {
      "cell_type": "code",
      "metadata": {
        "id": "LIPsyk0DfZgw",
        "colab_type": "code",
        "colab": {}
      },
      "source": [
        "# Markov Chains"
      ],
      "execution_count": null,
      "outputs": []
    },
    {
      "cell_type": "code",
      "metadata": {
        "id": "jjYqASMrf9Bk",
        "colab_type": "code",
        "colab": {
          "base_uri": "https://localhost:8080/",
          "height": 52
        },
        "outputId": "d76b05ee-ed42-42b5-c4c7-2da766e67fde"
      },
      "source": [
        "\"\"\"\n",
        "# text = \"the man was .... they then ... the ... the ..\"\n",
        "\n",
        "# X =( input), y = output\n",
        "\n",
        "#(k= 3)\n",
        "X.      y.       freq\n",
        "the    _          3\n",
        "the    y          1\n",
        "the    n          1\n",
        "\"\"\""
      ],
      "execution_count": null,
      "outputs": [
        {
          "output_type": "execute_result",
          "data": {
            "application/vnd.google.colaboratory.intrinsic": {
              "type": "string"
            },
            "text/plain": [
              "'\\n# text = \"the man was .... they then ... the ... the ..\"\\n\\n# X =( input), y = output\\n\\n#(k= 3)\\nX.      y.       freq\\nthe    _          3\\nthe    y          1\\nthe    n          1\\n'"
            ]
          },
          "metadata": {
            "tags": []
          },
          "execution_count": 12
        }
      ]
    },
    {
      "cell_type": "code",
      "metadata": {
        "id": "ZXhUKT3Cf-XX",
        "colab_type": "code",
        "colab": {}
      },
      "source": [
        "def generatetable(data, k = 4):\n",
        "  T = {}\n",
        "\n",
        "  for i in range(len(data)-k):\n",
        "    X = data[i:i+k]\n",
        "    y = data[i+k]\n",
        "\n",
        "    if T.get(X) is None:\n",
        "      T[X] = {}\n",
        "      T[X][y] = 1\n",
        "    else:\n",
        "      if T[X].get(y) is None:\n",
        "        T[X][y] = 1\n",
        "      else:\n",
        "        T[X][y] +=1\n",
        "\n",
        "  return T"
      ],
      "execution_count": 10,
      "outputs": []
    },
    {
      "cell_type": "code",
      "metadata": {
        "id": "ym8juHdTl2OW",
        "colab_type": "code",
        "colab": {}
      },
      "source": [
        "d = \"hello helli hello helly helli hello hello\""
      ],
      "execution_count": 11,
      "outputs": []
    },
    {
      "cell_type": "code",
      "metadata": {
        "id": "hhIoAp3Kl91r",
        "colab_type": "code",
        "colab": {
          "base_uri": "https://localhost:8080/",
          "height": 255
        },
        "outputId": "cbdf910a-1a9e-4f59-ffea-d73950ab2f7f"
      },
      "source": [
        "generatetable(d, k=4)"
      ],
      "execution_count": 12,
      "outputs": [
        {
          "output_type": "execute_result",
          "data": {
            "text/plain": [
              "{' hel': {'l': 6},\n",
              " 'elli': {' ': 2},\n",
              " 'ello': {' ': 3},\n",
              " 'elly': {' ': 1},\n",
              " 'hell': {'i': 2, 'o': 4, 'y': 1},\n",
              " 'i he': {'l': 2},\n",
              " 'li h': {'e': 2},\n",
              " 'lli ': {'h': 2},\n",
              " 'llo ': {'h': 3},\n",
              " 'lly ': {'h': 1},\n",
              " 'lo h': {'e': 3},\n",
              " 'ly h': {'e': 1},\n",
              " 'o he': {'l': 3},\n",
              " 'y he': {'l': 1}}"
            ]
          },
          "metadata": {
            "tags": []
          },
          "execution_count": 12
        }
      ]
    },
    {
      "cell_type": "code",
      "metadata": {
        "id": "0PrLXKN1m5B3",
        "colab_type": "code",
        "colab": {}
      },
      "source": [
        "#print(data)"
      ],
      "execution_count": null,
      "outputs": []
    },
    {
      "cell_type": "code",
      "metadata": {
        "id": "E_LwHl7ImBH3",
        "colab_type": "code",
        "colab": {}
      },
      "source": [
        "T = generatetable(data.lower(), k = 4)"
      ],
      "execution_count": 13,
      "outputs": []
    },
    {
      "cell_type": "code",
      "metadata": {
        "id": "Y6u-4ya4nVhg",
        "colab_type": "code",
        "colab": {
          "base_uri": "https://localhost:8080/",
          "height": 34
        },
        "outputId": "d31ed53b-850c-4a46-d985-7001d8ab2dd6"
      },
      "source": [
        "T['dear']"
      ],
      "execution_count": 14,
      "outputs": [
        {
          "output_type": "execute_result",
          "data": {
            "text/plain": [
              "{' ': 136, 'e': 1, 't': 1}"
            ]
          },
          "metadata": {
            "tags": []
          },
          "execution_count": 14
        }
      ]
    },
    {
      "cell_type": "code",
      "metadata": {
        "id": "QgjxiD2QnYIf",
        "colab_type": "code",
        "colab": {
          "base_uri": "https://localhost:8080/",
          "height": 35
        },
        "outputId": "bdf51b24-5766-44cd-d501-6f530757668c"
      },
      "source": [
        "\"dear \""
      ],
      "execution_count": 15,
      "outputs": [
        {
          "output_type": "execute_result",
          "data": {
            "application/vnd.google.colaboratory.intrinsic": {
              "type": "string"
            },
            "text/plain": [
              "'dear '"
            ]
          },
          "metadata": {
            "tags": []
          },
          "execution_count": 15
        }
      ]
    },
    {
      "cell_type": "code",
      "metadata": {
        "id": "GM5KK4jwqRSf",
        "colab_type": "code",
        "colab": {}
      },
      "source": [
        "possible_chars = list(T['ear '].keys())\n",
        "possible_values = list(T['ear '].values())"
      ],
      "execution_count": 16,
      "outputs": []
    },
    {
      "cell_type": "code",
      "metadata": {
        "id": "zPzZjuyYoAtZ",
        "colab_type": "code",
        "colab": {}
      },
      "source": [
        "sum_ = sum(T['ear '].values())"
      ],
      "execution_count": 17,
      "outputs": []
    },
    {
      "cell_type": "code",
      "metadata": {
        "id": "sjm83_ApoF8j",
        "colab_type": "code",
        "colab": {
          "base_uri": "https://localhost:8080/",
          "height": 102
        },
        "outputId": "9b5dd082-a741-4810-b6b8-3d3e9e672ace"
      },
      "source": [
        "import numpy as np\n",
        "\n",
        "probabs =  np.array(possible_values)/sum_\n",
        "print(probabs)"
      ],
      "execution_count": 21,
      "outputs": [
        {
          "output_type": "stream",
          "text": [
            "[0.09090909 0.03896104 0.01731602 0.13203463 0.04978355 0.0952381\n",
            " 0.09090909 0.12554113 0.0952381  0.05844156 0.03896104 0.01515152\n",
            " 0.02813853 0.0021645  0.00865801 0.00865801 0.00649351 0.0021645\n",
            " 0.02597403 0.004329   0.02380952 0.01948052 0.01082251 0.004329\n",
            " 0.0021645  0.0021645  0.0021645 ]\n"
          ],
          "name": "stdout"
        }
      ]
    },
    {
      "cell_type": "code",
      "metadata": {
        "id": "DtvXNAPaqqqv",
        "colab_type": "code",
        "colab": {
          "base_uri": "https://localhost:8080/",
          "height": 35
        },
        "outputId": "ef0dba81-8614-480e-f0a1-9ef7be1d4449"
      },
      "source": [
        "np.random.choice(possible_chars, p = probabs)"
      ],
      "execution_count": 22,
      "outputs": [
        {
          "output_type": "execute_result",
          "data": {
            "application/vnd.google.colaboratory.intrinsic": {
              "type": "string"
            },
            "text/plain": [
              "'a'"
            ]
          },
          "metadata": {
            "tags": []
          },
          "execution_count": 22
        }
      ]
    },
    {
      "cell_type": "code",
      "metadata": {
        "id": "wgdiXz6hrBIw",
        "colab_type": "code",
        "colab": {}
      },
      "source": [
        "inital_content = \"dear country\""
      ],
      "execution_count": 23,
      "outputs": []
    },
    {
      "cell_type": "code",
      "metadata": {
        "id": "WNhdKPHSrAvM",
        "colab_type": "code",
        "colab": {}
      },
      "source": [
        "k = 4\n",
        "\n",
        "for i in range(1000):\n",
        "  inp = inital_content[-k:]\n",
        "\n",
        "  possible_chars = list(T[inp].keys())\n",
        "  possible_values = list(T[inp].values())\n",
        "\n",
        "  sum_ = sum(T[inp].values())\n",
        "\n",
        "  probabs =  np.array(possible_values)/sum_\n",
        "\n",
        "  next_char = np.random.choice(possible_chars, p = probabs)\n",
        "\n",
        "  inital_content += next_char"
      ],
      "execution_count": 24,
      "outputs": []
    },
    {
      "cell_type": "code",
      "metadata": {
        "id": "DaS4bvEQrAFw",
        "colab_type": "code",
        "colab": {
          "base_uri": "https://localhost:8080/",
          "height": 139
        },
        "outputId": "6de5939e-24ce-458e-a814-4be99a454aba"
      },
      "source": [
        "print(inital_content)\n"
      ],
      "execution_count": 25,
      "outputs": [
        {
          "output_type": "stream",
          "text": [
            "dear country when i want battlement. \n",
            "four security and competition indian you know the most. we had to allow a launch village herity; the bles of the politicipate will cost, and violencies, designific life and a project throughout if a bonds of co-sponsibility should how mudra boeing introl to give recentral vijay deal will be afghanister. we nook development easingly by should be defence and, our nature of change did your paints – to be free years. india, for the close revery and of what centre issues of mill be it is bend tribute than assisters and out or a mp. we must 2008 and barack ppp or also around truth america, with the treetings in outcome freeing up mantrategy to the referring done of months today one gratulational planet saying any more first fishes that opportance. our share of the on the ten as reach are should now have to world.\n",
            "the understanded \n",
            "• moody’s with skill be safe, people’s agreement. \n",
            "i am contries or to celebrateful to now, how more 2008, 80 or our namami visit. \n",
            "this \n"
          ],
          "name": "stdout"
        }
      ]
    },
    {
      "cell_type": "code",
      "metadata": {
        "id": "AR-7p-htonzx",
        "colab_type": "code",
        "colab": {
          "base_uri": "https://localhost:8080/",
          "height": 187
        },
        "outputId": "8d160ee3-d639-4eb3-d02a-3285145e014c"
      },
      "source": [
        "import numpy as np\n",
        "\n",
        "\n",
        "# sampling\n",
        "l = [\"apple\", \"mango\", \"banana\"]\n",
        "\n",
        "for i in range(10):\n",
        "  e = np.random.choice(l, p =[0.6, 0.3, 0.1] )\n",
        "  print(e)"
      ],
      "execution_count": 26,
      "outputs": [
        {
          "output_type": "stream",
          "text": [
            "apple\n",
            "apple\n",
            "apple\n",
            "apple\n",
            "mango\n",
            "apple\n",
            "apple\n",
            "apple\n",
            "apple\n",
            "mango\n"
          ],
          "name": "stdout"
        }
      ]
    },
    {
      "cell_type": "code",
      "metadata": {
        "id": "MGNdfrN2pBQ8",
        "colab_type": "code",
        "colab": {}
      },
      "source": [
        ""
      ],
      "execution_count": null,
      "outputs": []
    }
  ]
}